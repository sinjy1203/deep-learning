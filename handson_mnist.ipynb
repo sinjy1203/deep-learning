{
  "nbformat": 4,
  "nbformat_minor": 0,
  "metadata": {
    "colab": {
      "name": "handson_mnist.ipynb",
      "provenance": [],
      "authorship_tag": "ABX9TyPUq+3t9l1Pk6j3OxGtSYYt",
      "include_colab_link": true
    },
    "kernelspec": {
      "name": "python3",
      "display_name": "Python 3"
    },
    "accelerator": "GPU"
  },
  "cells": [
    {
      "cell_type": "markdown",
      "metadata": {
        "id": "view-in-github",
        "colab_type": "text"
      },
      "source": [
        "<a href=\"https://colab.research.google.com/github/sinjy1203/deep-learning/blob/master/handson_mnist.ipynb\" target=\"_parent\"><img src=\"https://colab.research.google.com/assets/colab-badge.svg\" alt=\"Open In Colab\"/></a>"
      ]
    },
    {
      "cell_type": "code",
      "metadata": {
        "id": "1uQFqRX3V-rk",
        "colab_type": "code",
        "outputId": "5ffa745c-2110-4d00-a837-576e1b2d43b3",
        "colab": {
          "base_uri": "https://localhost:8080/",
          "height": 131
        }
      },
      "source": [
        "from google.colab import drive\n",
        "drive.mount('/content/gdrive')"
      ],
      "execution_count": 1,
      "outputs": [
        {
          "output_type": "stream",
          "text": [
            "Go to this URL in a browser: https://accounts.google.com/o/oauth2/auth?client_id=947318989803-6bn6qk8qdgf4n4g3pfee6491hc0brc4i.apps.googleusercontent.com&redirect_uri=urn%3aietf%3awg%3aoauth%3a2.0%3aoob&response_type=code&scope=email%20https%3a%2f%2fwww.googleapis.com%2fauth%2fdocs.test%20https%3a%2f%2fwww.googleapis.com%2fauth%2fdrive%20https%3a%2f%2fwww.googleapis.com%2fauth%2fdrive.photos.readonly%20https%3a%2f%2fwww.googleapis.com%2fauth%2fpeopleapi.readonly\n",
            "\n",
            "Enter your authorization code:\n",
            "··········\n",
            "Mounted at /content/gdrive\n"
          ],
          "name": "stdout"
        }
      ]
    },
    {
      "cell_type": "code",
      "metadata": {
        "id": "dhLjyRfif5-8",
        "colab_type": "code",
        "colab": {}
      },
      "source": [
        "import tensorflow as tf\n",
        "import numpy as np\n",
        "(x_train, y_train), (x_test, y_test) = tf.keras.datasets.mnist.load_data()"
      ],
      "execution_count": 0,
      "outputs": []
    },
    {
      "cell_type": "code",
      "metadata": {
        "id": "28KlOP3ag2Td",
        "colab_type": "code",
        "colab": {
          "base_uri": "https://localhost:8080/",
          "height": 36
        },
        "outputId": "78a49cda-b658-4775-e648-8724ca7bcc3a"
      },
      "source": [
        "x_train, x_test = x_train.astype(np.float32).reshape(-1, 28*28), x_test.astype(np.float32).reshape(-1, 28*28)\n",
        "y_train, y_test = y_train.astype(np.int32), y_test.astype(np.int32)\n",
        "y_train.shape"
      ],
      "execution_count": 28,
      "outputs": [
        {
          "output_type": "execute_result",
          "data": {
            "text/plain": [
              "(60000,)"
            ]
          },
          "metadata": {
            "tags": []
          },
          "execution_count": 28
        }
      ]
    },
    {
      "cell_type": "code",
      "metadata": {
        "id": "DyBX7z5PkyN8",
        "colab_type": "code",
        "colab": {
          "base_uri": "https://localhost:8080/",
          "height": 223
        },
        "outputId": "8af9fe14-5830-48b9-a84c-4178108003ed"
      },
      "source": [
        "def shuffle_batch(X, y, batch_size):\n",
        "    rnd_idx = np.random.permutation(len(X))\n",
        "    n_batches = len(X) // batch_size\n",
        "    for batch_idx in np.array_split(rnd_idx, n_batches):\n",
        "        X_batch, y_batch = X[batch_idx], y[batch_idx]\n",
        "        yield X_batch, y_batch\n",
        "\n",
        "tf.reset_default_graph()\n",
        "tf.set_random_seed(42)\n",
        "np.random.seed(42)\n",
        "x = tf.placeholder(dtype=tf.float32, shape=(None, 784), name='x')\n",
        "y = tf.placeholder(dtype=tf.int32, shape=(None), name='y')\n",
        "\n",
        "layer1 = tf.layers.dense(x, 200, activation=tf.nn.relu, name='layer1')\n",
        "layer2 = tf.layers.dense(layer1, 200, activation=tf.nn.relu, name='layer2')\n",
        "layer3 = tf.layers.dense(layer2, 200, activation=tf.nn.relu, name='layer3')\n",
        "layer4 = tf.layers.dense(layer3, 200, activation=tf.nn.relu, name='layer4')\n",
        "layer5 = tf.layers.dense(layer4, 200, activation=tf.nn.relu, name='layer5')\n",
        "logits = tf.layers.dense(layer5, 10)\n",
        "pred = tf.nn.softmax(logits)\n",
        "xentropy = tf.nn.sparse_softmax_cross_entropy_with_logits(labels = y, logits=logits)\n",
        "loss = tf.reduce_mean(xentropy)\n",
        "optimizer = tf.train.GradientDescentOptimizer(0.001)\n",
        "train_op = optimizer.minimize(loss)\n",
        "\n",
        "correct = tf.nn.in_top_k(logits, y, 1)\n",
        "accuracy = tf.reduce_mean(tf.cast(correct, tf.float32))\n",
        "\n",
        "init = tf.global_variables_initializer()\n",
        "saver = tf.train.Saver()\n",
        "\n",
        "n_epochs = 101\n",
        "batch_size = 50\n",
        "\n",
        "with tf.Session() as sess:\n",
        "  sess.run(init)\n",
        "  for n_epoch in range(n_epochs):\n",
        "    cost = 0.0\n",
        "    for i in range(np.int(len(x_train) / batch_size)):\n",
        "      xs = x_train[i * batch_size:i * batch_size + batch_size]\n",
        "      ys = y_train[i * batch_size:i * batch_size + batch_size]\n",
        "      _, cost_val = sess.run([train_op, loss], feed_dict={x: xs, y: ys})\n",
        "      cost += cost_val / (len(x_train) / batch_size)\n",
        "    if n_epoch % 10 == 0:\n",
        "      print(n_epoch, cost)\n",
        "  save_path = saver.save(sess, \"/content/gdrive/My Drive/tmp/my_model3.ckpt\")\n",
        "# a = 0\n",
        "# with tf.Session() as sess:\n",
        "#   sess.run(init)\n",
        "#   cost = 0\n",
        "#   for epoch in range(n_epochs):\n",
        "#         for x_batch, y_batch in shuffle_batch(x_train, y_train, batch_size):\n",
        "#             _, cost_val = sess.run([train_op, loss], feed_dict={x: x_batch, y: y_batch})\n",
        "#             #a += 1\n",
        "#             cost += cost_val / 1200\n",
        "#         if epoch % 10 == 0:\n",
        "#           print(epoch,\"  \", cost)\n",
        "#   save_path = saver.save(sess, \"/content/gdrive/My Drive/tmp/my_model3.ckpt\")\n",
        "  #print(a)\n",
        "# with tf.Session() as sess:\n",
        "#   sess.run(init)\n",
        "#   for n_epoch in range(n_epochs):\n",
        "#     _, cost = sess.run([train_op, loss], feed_dict={x: x_train, y: y_train})\n",
        "#     if n_epoch % 10 == 0:\n",
        "#       print(n_epoch, cost)\n",
        "#   save_path = saver.save(sess, \"/content/gdrive/My Drive/tmp/my_model3.ckpt\")"
      ],
      "execution_count": 81,
      "outputs": [
        {
          "output_type": "stream",
          "text": [
            "0 0.8090774025201496\n",
            "10 0.04074946763689995\n",
            "20 0.010931224058191837\n",
            "30 0.004242333644072765\n",
            "40 0.002264588139081149\n",
            "50 0.0014551819595612875\n",
            "60 0.001048597557021747\n",
            "70 0.0008080915473230261\n",
            "80 0.0006516356432399571\n",
            "90 0.0005424005499416275\n",
            "100 0.000462710872168562\n"
          ],
          "name": "stdout"
        }
      ]
    },
    {
      "cell_type": "code",
      "metadata": {
        "id": "ET461dO8xEcT",
        "colab_type": "code",
        "colab": {
          "base_uri": "https://localhost:8080/",
          "height": 55
        },
        "outputId": "47eb882c-5cb6-44d4-ebc5-6108b9e0d1d4"
      },
      "source": [
        "with tf.Session() as sess:\n",
        "  saver.restore(sess, \"/content/gdrive/My Drive/tmp/my_model3.ckpt\")\n",
        "  acc = sess.run(accuracy, feed_dict={x: x_test, y: y_test})\n",
        "  print(acc)"
      ],
      "execution_count": 82,
      "outputs": [
        {
          "output_type": "stream",
          "text": [
            "INFO:tensorflow:Restoring parameters from /content/gdrive/My Drive/tmp/my_model3.ckpt\n",
            "0.96\n"
          ],
          "name": "stdout"
        }
      ]
    }
  ]
}