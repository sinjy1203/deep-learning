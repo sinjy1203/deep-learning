{
  "nbformat": 4,
  "nbformat_minor": 0,
  "metadata": {
    "colab": {
      "name": "mnist_camera_opencv.ipynb",
      "provenance": [],
      "authorship_tag": "ABX9TyMcMQLuuqQay5INr+6nDF70",
      "include_colab_link": true
    },
    "kernelspec": {
      "name": "python3",
      "display_name": "Python 3"
    }
  },
  "cells": [
    {
      "cell_type": "markdown",
      "metadata": {
        "id": "view-in-github",
        "colab_type": "text"
      },
      "source": [
        "<a href=\"https://colab.research.google.com/github/sinjy1203/deep-learning/blob/master/mnist_camera_opencv.ipynb\" target=\"_parent\"><img src=\"https://colab.research.google.com/assets/colab-badge.svg\" alt=\"Open In Colab\"/></a>"
      ]
    },
    {
      "cell_type": "markdown",
      "metadata": {
        "id": "l9GQ9lW8UAPV",
        "colab_type": "text"
      },
      "source": [
        "mnist 데이터 학습 단계"
      ]
    },
    {
      "cell_type": "code",
      "metadata": {
        "id": "mazXybITTel3",
        "colab_type": "code",
        "colab": {}
      },
      "source": [
        "from keras.datasets import mnist\n",
        "(x_train, y_train), (x_test, y_test) = mnist.load_data()\n",
        "\n",
        "import numpy as np\n",
        "x_train = x_train.astype(np.float32) / 255.0\n",
        "x_test = x_test.astype(np.float32) / 255.0\n",
        "x_train = x_train.reshape((-1, 28, 28, 1))\n",
        "x_test = x_test.reshape((-1, 28, 28, 1))\n",
        "y_train = y_train.astype(np.int32)\n",
        "y_test = y_test.astype(np.int32)\n",
        "\n",
        "from keras.utils import to_categorical\n",
        "y_train = to_categorical(y_train)\n",
        "y_test = to_categorical(y_test)\n",
        "\n",
        "from tensorflow.keras.models import Model\n",
        "from tensorflow.keras import layers, Input\n",
        "\n",
        "input = Input(shape=(28, 28, 1))\n",
        "x = layers.Conv2D(32, 3, padding='SAME', activation='relu')(input)\n",
        "x = layers.Conv2D(32, 3, padding='SAME', activation='relu')(x)\n",
        "x = layers.MaxPooling2D(2)(x)\n",
        "x = layers.Conv2D(64, 3, padding='SAME', activation='relu')(x)\n",
        "x = layers.Conv2D(64, 3, padding='SAME', activation='relu')(x)\n",
        "x = layers.MaxPooling2D(2)(x)\n",
        "x = layers.Flatten()(x)\n",
        "x = layers.Dense(100, activation='relu')(x)\n",
        "output = layers.Dense(10, activation='softmax')(x)\n",
        "model = Model(input, output)\n",
        "model.summary()\n",
        "\n",
        "model.compile(optimizer='rmsprop', loss='categorical_crossentropy', metrics=['acc'])\n",
        "history = model.fit(x_train, y_train, epochs=10, batch_size=128, validation_split=0.2)\n",
        "\n",
        "model.save(\"./mnist2_model.h5\")"
      ],
      "execution_count": 0,
      "outputs": []
    },
    {
      "cell_type": "markdown",
      "metadata": {
        "id": "6ADD-75EUIXP",
        "colab_type": "text"
      },
      "source": [
        "카메라로 숫자를 인풋받아서 예측값 출력(파이참에서)"
      ]
    },
    {
      "cell_type": "code",
      "metadata": {
        "id": "bbDZv9RwUUYU",
        "colab_type": "code",
        "colab": {}
      },
      "source": [
        "import numpy as np\n",
        "from tensorflow.keras.utils import to_categorical\n",
        "from tensorflow.keras.datasets import mnist\n",
        "from tensorflow.keras.models import load_model\n",
        "import cv2 as cv\n",
        "\n",
        "model = load_model(\"mnist2_model.h5\")\n",
        "\n",
        "cap = cv.VideoCapture(1)\n",
        "width = int(cap.get(cv.CAP_PROP_FRAME_WIDTH))\n",
        "height = int(cap.get(cv.CAP_PROP_FRAME_HEIGHT))\n",
        "while True:\n",
        "    ret, frame = cap.read()\n",
        "    gray_frame = cv.cvtColor(frame, cv.COLOR_BGR2GRAY)\n",
        "    if ret == False:\n",
        "        continue\n",
        "    cv.rectangle(gray_frame, (250,150), (width-250, height-150), (0,0,255))\n",
        "    cv.imshow(\"gray\", gray_frame)\n",
        "    if cv.waitKey(1)%0xFF == 27:\n",
        "        break\n",
        "    elif cv.waitKey(1) == 32:\n",
        "        img = gray_frame[150:height - 150, 250:width - 250]  #shape = 180 140\n",
        "        img_resize = cv.resize(img, (28,28))\n",
        "        ret, img_result = cv.threshold(img_resize, 127, 255, cv.THRESH_BINARY_INV)\n",
        "        img_result_ = np.reshape(img_result, (1,28,28,1))\n",
        "        print(np.argmax(model.predict(img_result_)))\n",
        "        cv.imshow(\"mnist_mini\", img_result)\n",
        "        cv.imshow(\"mnist\", img)\n",
        "        cv.waitKey(0)\n",
        "cap.release()\n",
        "cv.destroyAllWindows()"
      ],
      "execution_count": 0,
      "outputs": []
    }
  ]
}