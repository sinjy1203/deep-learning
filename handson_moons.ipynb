{
  "nbformat": 4,
  "nbformat_minor": 0,
  "metadata": {
    "colab": {
      "name": "handson_moons.ipynb",
      "provenance": [],
      "collapsed_sections": [],
      "authorship_tag": "ABX9TyPzeDMVmak++nq3qY37lutq",
      "include_colab_link": true
    },
    "kernelspec": {
      "name": "python3",
      "display_name": "Python 3"
    },
    "accelerator": "GPU"
  },
  "cells": [
    {
      "cell_type": "markdown",
      "metadata": {
        "id": "view-in-github",
        "colab_type": "text"
      },
      "source": [
        "<a href=\"https://colab.research.google.com/github/sinjy1203/deep-learning/blob/master/handson_moons.ipynb\" target=\"_parent\"><img src=\"https://colab.research.google.com/assets/colab-badge.svg\" alt=\"Open In Colab\"/></a>"
      ]
    },
    {
      "cell_type": "code",
      "metadata": {
        "id": "6cHn5K9-eQLU",
        "colab_type": "code",
        "colab": {
          "base_uri": "https://localhost:8080/",
          "height": 36
        },
        "outputId": "2d2f7f16-19f8-4c15-dd5d-96ee0ac19855"
      },
      "source": [
        "!git clone https://github.com/sinjy1203/deep-learning.git"
      ],
      "execution_count": 17,
      "outputs": [
        {
          "output_type": "stream",
          "text": [
            "fatal: destination path 'deep-learning' already exists and is not an empty directory.\n"
          ],
          "name": "stdout"
        }
      ]
    },
    {
      "cell_type": "code",
      "metadata": {
        "id": "M2eq0yU0ZQxZ",
        "colab_type": "code",
        "colab": {
          "base_uri": "https://localhost:8080/",
          "height": 36
        },
        "outputId": "6a14d2e8-240d-493c-a976-b311342e8936"
      },
      "source": [
        "from google.colab import drive \n",
        "drive.mount('/content/gdrive/')"
      ],
      "execution_count": 10,
      "outputs": [
        {
          "output_type": "stream",
          "text": [
            "Drive already mounted at /content/gdrive/; to attempt to forcibly remount, call drive.mount(\"/content/gdrive/\", force_remount=True).\n"
          ],
          "name": "stdout"
        }
      ]
    },
    {
      "cell_type": "code",
      "metadata": {
        "id": "tGgfjvBaBP29",
        "colab_type": "code",
        "colab": {}
      },
      "source": [
        "from sklearn.datasets import make_moons\n",
        "import tensorflow as tf\n",
        "import numpy as np\n",
        "import matplotlib.pyplot as plt\n",
        "m = 1000\n",
        "x_moons, y_moons = make_moons(m, noise=0.1, random_state=42)"
      ],
      "execution_count": 0,
      "outputs": []
    },
    {
      "cell_type": "code",
      "metadata": {
        "id": "cBqy4Q5oq8IM",
        "colab_type": "code",
        "outputId": "b028be22-0195-4e78-d558-ee41c58cd8a3",
        "colab": {
          "base_uri": "https://localhost:8080/",
          "height": 265
        }
      },
      "source": [
        "plt.plot(x_moons[y_moons == 1, 0], x_moons[y_moons == 1, 1], 'go', label = 'positive')\n",
        "plt.plot(x_moons[y_moons == 0, 0], x_moons[y_moons == 0, 1], 'r^', label='negative')\n",
        "plt.legend()\n",
        "plt.show()"
      ],
      "execution_count": 12,
      "outputs": [
        {
          "output_type": "display_data",
          "data": {
            "image/png": "[encoded data removed]",
            "text/plain": [
              "<Figure size 432x288 with 1 Axes>"
            ]
          },
          "metadata": {
            "tags": []
          }
        }
      ]
    },
    {
      "cell_type": "code",
      "metadata": {
        "id": "pqBdh72uvqwB",
        "colab_type": "code",
        "outputId": "0f5ace44-57ab-4506-ad6a-7a6bcaf2ffb2",
        "colab": {
          "base_uri": "https://localhost:8080/",
          "height": 285
        }
      },
      "source": [
        "import pandas as pd\n",
        "data = np.c_[x_moons, y_moons]\n",
        "df = pd.DataFrame(data)\n",
        "df.columns = ['data_1', 'data_2', 'y']\n",
        "df.boxplot(column=['data_1', 'data_2'])"
      ],
      "execution_count": 13,
      "outputs": [
        {
          "output_type": "execute_result",
          "data": {
            "text/plain": [
              "<matplotlib.axes._subplots.AxesSubplot at 0x7fd899c39630>"
            ]
          },
          "metadata": {
            "tags": []
          },
          "execution_count": 13
        },
        {
          "output_type": "display_data",
          "data": {
            "image/png": "[encoded data removed]",
            "text/plain": [
              "<Figure size 432x288 with 1 Axes>"
            ]
          },
          "metadata": {
            "tags": []
          }
        }
      ]
    },
    {
      "cell_type": "code",
      "metadata": {
        "id": "QzNV6sgoR4x5",
        "colab_type": "code",
        "colab": {}
      },
      "source": [
        "from sklearn.preprocessing import StandardScaler\n",
        "from sklearn.model_selection import train_test_split\n",
        "\n",
        "train, test = train_test_split(df, test_size = 0.2, random_state=42)\n",
        "train_y = train[\"y\"]\n",
        "train_x = train.drop(columns=\"y\")\n",
        "test_y = test[\"y\"]\n",
        "test_x = test.drop(columns=\"y\")\n",
        "std_scaler = StandardScaler()\n",
        "train_x = std_scaler.fit_transform(train_x)\n",
        "test_x = std_scaler.transform(test_x)"
      ],
      "execution_count": 0,
      "outputs": []
    },
    {
      "cell_type": "code",
      "metadata": {
        "id": "FFz1vGpaigCS",
        "colab_type": "code",
        "colab": {}
      },
      "source": [
        "train_y = np.array(train_y)\n",
        "train_y = train_y.reshape(-1, 1)\n",
        "train_y.shape\n",
        "test_y = np.array(test_y)\n",
        "test_y = test_y.reshape(-1, 1)"
      ],
      "execution_count": 0,
      "outputs": []
    },
    {
      "cell_type": "code",
      "metadata": {
        "id": "mVM2pmSiZtzv",
        "colab_type": "code",
        "colab": {
          "base_uri": "https://localhost:8080/",
          "height": 471
        },
        "outputId": "e677933d-1bcf-4faf-a0fb-a7666f064254"
      },
      "source": [
        "tf.reset_default_graph()\n",
        "tf.set_random_seed(42)\n",
        "np.random.seed(42)\n",
        "x = tf.placeholder(dtype=tf.float32, shape=(None, 2), name='x')\n",
        "y = tf.placeholder(dtype=tf.float32, shape=(None, 1), name='y')\n",
        "w = tf.Variable(tf.random_normal((2, 1)), name='w')\n",
        "z = tf.matmul(x, w)\n",
        "z_proba = tf.sigmoid(z)\n",
        "error = z_proba - y\n",
        "mse = tf.reduce_mean(tf.square(error))\n",
        "optimizer = tf.train.GradientDescentOptimizer(0.01)\n",
        "train_op = optimizer.minimize(mse)\n",
        "z_pred = tf.cast(z_proba > 0.5, dtype=tf.float32)\n",
        "accuracy = tf.reduce_mean(tf.cast(tf.equal(z_pred, y), tf.float32))\n",
        "init = tf.global_variables_initializer()\n",
        "saver = tf.train.Saver()\n",
        "\n",
        "with tf.Session() as sess:\n",
        "  sess.run(init)\n",
        "  for i in range(100):\n",
        "    _, cost = sess.run([train_op, mse], feed_dict={x: train_x, y: train_y})\n",
        "    if i % 10 == 0:\n",
        "      print(cost)\n",
        "  a, b = sess.run([accuracy, z_pred], feed_dict={x: test_x, y: test_y})\n",
        "  save_path = saver.save(sess, \"/content/gdrive/My Drive/tmp/my_model.ckpt\")\n",
        "print(a)\n",
        "b_idx = (b == 1)\n",
        "b_idx = b_idx.reshape(-1)\n",
        "plt.plot(test_x[b_idx, 0], test_x[b_idx, 1], \"go\", label=\"positive\")\n",
        "plt.plot(test_x[~b_idx, 0], test_x[~b_idx, 1], \"r^\", label=\"negative\")\n",
        "plt.legend()\n",
        "plt.show()"
      ],
      "execution_count": 16,
      "outputs": [
        {
          "output_type": "stream",
          "text": [
            "0.08175388\n",
            "0.08175135\n",
            "0.08174882\n",
            "0.08174631\n",
            "0.08174383\n",
            "0.081741355\n",
            "0.081738904\n",
            "0.08173646\n",
            "0.08173405\n",
            "0.08173165\n",
            "0.88\n"
          ],
          "name": "stdout"
        },
        {
          "output_type": "display_data",
          "data": {
            "image/png": "[encoded data removed]",
            "text/plain": [
              "<Figure size 432x288 with 1 Axes>"
            ]
          },
          "metadata": {
            "tags": []
          }
        }
      ]
    },
    {
      "cell_type": "code",
      "metadata": {
        "id": "jZQniNJSdu6B",
        "colab_type": "code",
        "colab": {
          "base_uri": "https://localhost:8080/",
          "height": 129
        },
        "outputId": "49d4cf62-e535-49be-bf14-63740aa84b8f"
      },
      "source": [
        "!git clone https://github.com/sinjy1203/deep-learning.git"
      ],
      "execution_count": 9,
      "outputs": [
        {
          "output_type": "stream",
          "text": [
            "Cloning into 'deep-learning'...\n",
            "remote: Enumerating objects: 3, done.\u001b[K\n",
            "remote: Counting objects: 100% (3/3), done.\u001b[K\n",
            "remote: Compressing objects: 100% (3/3), done.\u001b[K\n",
            "remote: Total 3 (delta 0), reused 3 (delta 0), pack-reused 0\u001b[K\n",
            "Unpacking objects: 100% (3/3), done.\n"
          ],
          "name": "stdout"
        }
      ]
    }
  ]
}